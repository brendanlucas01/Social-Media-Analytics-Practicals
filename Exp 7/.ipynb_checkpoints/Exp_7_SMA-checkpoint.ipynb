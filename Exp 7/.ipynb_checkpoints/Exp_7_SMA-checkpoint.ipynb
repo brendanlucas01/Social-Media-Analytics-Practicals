{
 "cells": [
  {
   "cell_type": "code",
   "execution_count": null,
   "metadata": {
    "colab": {
     "base_uri": "https://localhost:8080/"
    },
    "id": "vL4Bg4UND_fI",
    "outputId": "8ef74faf-8567-4aac-bf79-b8b2448db054"
   },
   "outputs": [
    {
     "name": "stdout",
     "output_type": "stream",
     "text": [
      "Looking in indexes: https://pypi.org/simple, https://us-python.pkg.dev/colab-wheels/public/simple/\n",
      "Collecting snscrape\n",
      "  Downloading snscrape-0.6.2.20230320-py3-none-any.whl (71 kB)\n",
      "\u001b[2K     \u001b[90m━━━━━━━━━━━━━━━━━━━━━━━━━━━━━━━━━━━━━━━\u001b[0m \u001b[32m71.8/71.8 KB\u001b[0m \u001b[31m717.4 kB/s\u001b[0m eta \u001b[36m0:00:00\u001b[0m\n",
      "\u001b[?25hRequirement already satisfied: filelock in /usr/local/lib/python3.9/dist-packages (from snscrape) (3.10.7)\n",
      "Requirement already satisfied: lxml in /usr/local/lib/python3.9/dist-packages (from snscrape) (4.9.2)\n",
      "Requirement already satisfied: requests[socks] in /usr/local/lib/python3.9/dist-packages (from snscrape) (2.27.1)\n",
      "Requirement already satisfied: beautifulsoup4 in /usr/local/lib/python3.9/dist-packages (from snscrape) (4.11.2)\n",
      "Requirement already satisfied: soupsieve>1.2 in /usr/local/lib/python3.9/dist-packages (from beautifulsoup4->snscrape) (2.4)\n",
      "Requirement already satisfied: charset-normalizer~=2.0.0 in /usr/local/lib/python3.9/dist-packages (from requests[socks]->snscrape) (2.0.12)\n",
      "Requirement already satisfied: idna<4,>=2.5 in /usr/local/lib/python3.9/dist-packages (from requests[socks]->snscrape) (3.4)\n",
      "Requirement already satisfied: urllib3<1.27,>=1.21.1 in /usr/local/lib/python3.9/dist-packages (from requests[socks]->snscrape) (1.26.15)\n",
      "Requirement already satisfied: certifi>=2017.4.17 in /usr/local/lib/python3.9/dist-packages (from requests[socks]->snscrape) (2022.12.7)\n",
      "Requirement already satisfied: PySocks!=1.5.7,>=1.5.6 in /usr/local/lib/python3.9/dist-packages (from requests[socks]->snscrape) (1.7.1)\n",
      "Installing collected packages: snscrape\n",
      "Successfully installed snscrape-0.6.2.20230320\n"
     ]
    }
   ],
   "source": [
    "!pip install snscrape"
   ]
  },
  {
   "cell_type": "code",
   "execution_count": 1,
   "metadata": {
    "colab": {
     "base_uri": "https://localhost:8080/"
    },
    "id": "UVUg1YhYEoB4",
    "outputId": "a41d177a-1af7-4474-bb64-48d63b7120a1"
   },
   "outputs": [
    {
     "name": "stderr",
     "output_type": "stream",
     "text": [
      "[nltk_data] Downloading package stopwords to\n",
      "[nltk_data]     C:\\Users\\Brendan\\AppData\\Roaming\\nltk_data...\n",
      "[nltk_data]   Package stopwords is already up-to-date!\n"
     ]
    },
    {
     "data": {
      "text/plain": [
       "True"
      ]
     },
     "execution_count": 1,
     "metadata": {},
     "output_type": "execute_result"
    }
   ],
   "source": [
    "import pandas as pd\n",
    "import snscrape.modules.twitter as sntwitter\n",
    "import numpy as np\n",
    "import matplotlib.pyplot as pit\n",
    "import seaborn as sns\n",
    "import nltk\n",
    "nltk.download(\"stopwords\")"
   ]
  },
  {
   "cell_type": "code",
   "execution_count": 2,
   "metadata": {
    "id": "SG1gEJkZFEuQ"
   },
   "outputs": [],
   "source": [
    "from nltk.corpus import stopwords\n",
    "from nltk.tokenize import word_tokenize\n",
    "from nltk.stem import WordNetLemmatizer\n",
    "from nltk.stem.porter import PorterStemmer\n",
    "import string\n",
    "import re\n",
    "import textblob\n",
    "from textblob import TextBlob\n",
    "from wordcloud import WordCloud, STOPWORDS\n",
    "from wordcloud import ImageColorGenerator\n",
    "import warnings\n",
    "%matplotlib inline"
   ]
  },
  {
   "cell_type": "code",
   "execution_count": 3,
   "metadata": {
    "colab": {
     "base_uri": "https://localhost:8080/"
    },
    "id": "jdzHelUcF5P6",
    "outputId": "ae6f5f16-ca9e-4051-d175-7fefe80d92d1"
   },
   "outputs": [
    {
     "data": {
      "text/plain": [
       "1"
      ]
     },
     "execution_count": 3,
     "metadata": {},
     "output_type": "execute_result"
    }
   ],
   "source": [
    "# import os\n",
    "# Using OS library to call CLI comands in Python\n",
    "#  os.system(\"snscrape --jsonl --max-results 20000 --since 2023-03-13 twitter-search 'chatGPT4' > text-chatGPT4-tweets.json\")"
   ]
  },
  {
   "cell_type": "code",
   "execution_count": 3,
   "metadata": {
    "id": "vt4Vb4siGF__"
   },
   "outputs": [],
   "source": [
    "import pandas as pd\n",
    "# creates a pandas dataframe\n",
    "tweets_df_chatGPT4 = pd.read_csv(\"Twitter.csv\")"
   ]
  },
  {
   "cell_type": "code",
   "execution_count": 4,
   "metadata": {
    "colab": {
     "base_uri": "https://localhost:8080/",
     "height": 577
    },
    "id": "e5hCASYvHBRI",
    "outputId": "b06977e3-7133-46f6-c895-c039f09e8828"
   },
   "outputs": [
    {
     "data": {
      "text/html": [
       "<div>\n",
       "<style scoped>\n",
       "    .dataframe tbody tr th:only-of-type {\n",
       "        vertical-align: middle;\n",
       "    }\n",
       "\n",
       "    .dataframe tbody tr th {\n",
       "        vertical-align: top;\n",
       "    }\n",
       "\n",
       "    .dataframe thead th {\n",
       "        text-align: right;\n",
       "    }\n",
       "</style>\n",
       "<table border=\"1\" class=\"dataframe\">\n",
       "  <thead>\n",
       "    <tr style=\"text-align: right;\">\n",
       "      <th></th>\n",
       "      <th>reviewId</th>\n",
       "      <th>content</th>\n",
       "      <th>score</th>\n",
       "    </tr>\n",
       "  </thead>\n",
       "  <tbody>\n",
       "    <tr>\n",
       "      <th>0</th>\n",
       "      <td>d5951c01-fe16-4d93-82ad-790eb025973a</td>\n",
       "      <td>Very nice app and very good app</td>\n",
       "      <td>5</td>\n",
       "    </tr>\n",
       "    <tr>\n",
       "      <th>1</th>\n",
       "      <td>6c17fa14-13df-4725-9ec1-09bfa14d2cbb</td>\n",
       "      <td>Best place for real news. It's \"Not government...</td>\n",
       "      <td>5</td>\n",
       "    </tr>\n",
       "    <tr>\n",
       "      <th>2</th>\n",
       "      <td>e7dfb058-f365-4c55-b4e1-3bca3acd5ba2</td>\n",
       "      <td>On latest versions tweet sharing is pain. Most...</td>\n",
       "      <td>3</td>\n",
       "    </tr>\n",
       "    <tr>\n",
       "      <th>3</th>\n",
       "      <td>ca1a908f-40d6-482c-b9e8-e8cb719dc398</td>\n",
       "      <td>goood</td>\n",
       "      <td>5</td>\n",
       "    </tr>\n",
       "    <tr>\n",
       "      <th>4</th>\n",
       "      <td>a46d3e8f-f64d-41d2-8408-638aa373b4b9</td>\n",
       "      <td>Love it !</td>\n",
       "      <td>5</td>\n",
       "    </tr>\n",
       "  </tbody>\n",
       "</table>\n",
       "</div>"
      ],
      "text/plain": [
       "                               reviewId  \\\n",
       "0  d5951c01-fe16-4d93-82ad-790eb025973a   \n",
       "1  6c17fa14-13df-4725-9ec1-09bfa14d2cbb   \n",
       "2  e7dfb058-f365-4c55-b4e1-3bca3acd5ba2   \n",
       "3  ca1a908f-40d6-482c-b9e8-e8cb719dc398   \n",
       "4  a46d3e8f-f64d-41d2-8408-638aa373b4b9   \n",
       "\n",
       "                                             content  score  \n",
       "0                    Very nice app and very good app      5  \n",
       "1  Best place for real news. It's \"Not government...      5  \n",
       "2  On latest versions tweet sharing is pain. Most...      3  \n",
       "3                                              goood      5  \n",
       "4                                          Love it !      5  "
      ]
     },
     "execution_count": 4,
     "metadata": {},
     "output_type": "execute_result"
    }
   ],
   "source": [
    "tweets_df_chatGPT4.head()"
   ]
  },
  {
   "cell_type": "code",
   "execution_count": 9,
   "metadata": {
    "id": "DF3_RAtlKbDn"
   },
   "outputs": [],
   "source": [
    "df_chatGPT4 = tweets_df_chatGPT4[['date','rawContent','renderedContent','user','replyCount','retweetCount','likeCount','lang','place','hashtags']]"
   ]
  },
  {
   "cell_type": "code",
   "execution_count": 10,
   "metadata": {
    "colab": {
     "base_uri": "https://localhost:8080/"
    },
    "id": "NzFt2eXhMvp-",
    "outputId": "b4e52d5f-26c0-4b25-de90-e14f99deafea"
   },
   "outputs": [
    {
     "data": {
      "text/plain": [
       "(20000, 10)"
      ]
     },
     "execution_count": 10,
     "metadata": {},
     "output_type": "execute_result"
    }
   ],
   "source": [
    "df_chatGPT4.shape"
   ]
  },
  {
   "cell_type": "code",
   "execution_count": 11,
   "metadata": {
    "id": "CjFImugfMvkA"
   },
   "outputs": [],
   "source": [
    "df2 = df_chatGPT4.drop_duplicates('renderedContent')"
   ]
  },
  {
   "cell_type": "code",
   "execution_count": 12,
   "metadata": {
    "colab": {
     "base_uri": "https://localhost:8080/"
    },
    "id": "P7cfMkwINAJx",
    "outputId": "c295040c-4b82-453b-9ade-ce07b3bea434"
   },
   "outputs": [
    {
     "data": {
      "text/plain": [
       "(17886, 10)"
      ]
     },
     "execution_count": 12,
     "metadata": {},
     "output_type": "execute_result"
    }
   ],
   "source": [
    "df2.shape"
   ]
  },
  {
   "cell_type": "code",
   "execution_count": 13,
   "metadata": {
    "colab": {
     "base_uri": "https://localhost:8080/"
    },
    "id": "DtrM3cThNHnZ",
    "outputId": "d26032ed-09b2-42ff-a64f-40a7c64704e7"
   },
   "outputs": [
    {
     "name": "stdout",
     "output_type": "stream",
     "text": [
      "<class 'pandas.core.frame.DataFrame'>\n",
      "Int64Index: 17886 entries, 0 to 19999\n",
      "Data columns (total 10 columns):\n",
      " #   Column           Non-Null Count  Dtype              \n",
      "---  ------           --------------  -----              \n",
      " 0   date             17886 non-null  datetime64[ns, UTC]\n",
      " 1   rawContent       17886 non-null  object             \n",
      " 2   renderedContent  17886 non-null  object             \n",
      " 3   user             17886 non-null  object             \n",
      " 4   replyCount       17886 non-null  int64              \n",
      " 5   retweetCount     17886 non-null  int64              \n",
      " 6   likeCount        17886 non-null  int64              \n",
      " 7   lang             17886 non-null  object             \n",
      " 8   place            318 non-null    object             \n",
      " 9   hashtags         11086 non-null  object             \n",
      "dtypes: datetime64[ns, UTC](1), int64(3), object(6)\n",
      "memory usage: 1.5+ MB\n"
     ]
    }
   ],
   "source": [
    "df2.info()"
   ]
  },
  {
   "cell_type": "code",
   "execution_count": 14,
   "metadata": {
    "colab": {
     "base_uri": "https://localhost:8080/"
    },
    "id": "LzEyBIYSNM-7",
    "outputId": "6135408f-8e6e-4861-9904-0c9eaadc0fd1"
   },
   "outputs": [
    {
     "data": {
      "text/plain": [
       "2023-03-22 14:04:23+00:00    3\n",
       "2023-03-27 08:03:42+00:00    3\n",
       "2023-03-23 05:15:00+00:00    3\n",
       "2023-04-02 17:11:43+00:00    3\n",
       "2023-04-02 17:11:45+00:00    3\n",
       "                            ..\n",
       "2023-03-29 13:56:11+00:00    1\n",
       "2023-03-29 13:54:36+00:00    1\n",
       "2023-03-29 13:54:06+00:00    1\n",
       "2023-03-29 13:51:35+00:00    1\n",
       "2023-03-20 12:07:05+00:00    1\n",
       "Name: date, Length: 17655, dtype: int64"
      ]
     },
     "execution_count": 14,
     "metadata": {},
     "output_type": "execute_result"
    }
   ],
   "source": [
    "df2.date.value_counts()"
   ]
  },
  {
   "cell_type": "code",
   "execution_count": 15,
   "metadata": {
    "id": "e0d4Sz-YNVGb"
   },
   "outputs": [],
   "source": [
    "import numpy as np\n",
    "import pandas as pd\n",
    "import matplotlib.pyplot as plt\n",
    "%matplotlib inline\n",
    "import seaborn as sns"
   ]
  },
  {
   "cell_type": "code",
   "execution_count": 16,
   "metadata": {
    "colab": {
     "base_uri": "https://localhost:8080/",
     "height": 606
    },
    "id": "au1HzzuvNxw5",
    "outputId": "ca29eff8-74e1-4c67-dd07-dc3f25db4902"
   },
   "outputs": [
    {
     "data": {
      "image/png": "[encoded data removed]",
      "text/plain": [
       "<Figure size 1224x504 with 2 Axes>"
      ]
     },
     "metadata": {
      "needs_background": "light"
     },
     "output_type": "display_data"
    }
   ],
   "source": [
    "plt.figure(figsize=(17,7))\n",
    "sns.heatmap(df2.isnull(), cbar=True, yticklabels=False)\n",
    "plt.xlabel(\"Column Name\",size=14,weight='bold')\n",
    "plt.title(\"places of missing values in column\", fontweight=\"bold\", size=17)\n",
    "plt.show()"
   ]
  },
  {
   "cell_type": "code",
   "execution_count": 17,
   "metadata": {
    "id": "pJW7jnLEPG-v"
   },
   "outputs": [],
   "source": [
    "tweets_df_chatGPT4.to_json(\"Cleaned_Data2.json\")"
   ]
  }
 ],
 "metadata": {
  "colab": {
   "provenance": []
  },
  "kernelspec": {
   "display_name": "Python 3 (ipykernel)",
   "language": "python",
   "name": "python3"
  },
  "language_info": {
   "codemirror_mode": {
    "name": "ipython",
    "version": 3
   },
   "file_extension": ".py",
   "mimetype": "text/x-python",
   "name": "python",
   "nbconvert_exporter": "python",
   "pygments_lexer": "ipython3",
   "version": "3.8.11"
  }
 },
 "nbformat": 4,
 "nbformat_minor": 1
}
